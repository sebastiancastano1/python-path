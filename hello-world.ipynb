{
 "cells": [
  {
   "cell_type": "markdown",
   "id": "472bc48c-8da6-44bc-ac17-e6a2e5e9d5e5",
   "metadata": {},
   "source": [
    "# This is my firt Jupyter Page"
   ]
  },
  {
   "cell_type": "code",
   "execution_count": 2,
   "id": "9d26a8ba-ee20-43de-8536-744ef8f58bd4",
   "metadata": {},
   "outputs": [
    {
     "name": "stdout",
     "output_type": "stream",
     "text": [
      "hello world\n"
     ]
    }
   ],
   "source": [
    "print(\"hello world\")"
   ]
  }
 ],
 "metadata": {
  "kernelspec": {
   "display_name": "Python 3 (ipykernel)",
   "language": "python",
   "name": "python3"
  },
  "language_info": {
   "codemirror_mode": {
    "name": "ipython",
    "version": 3
   },
   "file_extension": ".py",
   "mimetype": "text/x-python",
   "name": "python",
   "nbconvert_exporter": "python",
   "pygments_lexer": "ipython3",
   "version": "3.12.1"
  }
 },
 "nbformat": 4,
 "nbformat_minor": 5
}
